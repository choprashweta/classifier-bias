{
 "cells": [
  {
   "cell_type": "code",
   "execution_count": 18,
   "metadata": {
    "collapsed": false
   },
   "outputs": [],
   "source": [
    "import pandas as pd\n",
    "import numpy as np\n",
    "import matplotlib.pyplot as plt\n",
    "import seaborn as sns\n",
    "%matplotlib inline\n",
    "import os\n",
    "import scipy"
   ]
  },
  {
   "cell_type": "code",
   "execution_count": 4,
   "metadata": {
    "collapsed": false
   },
   "outputs": [
    {
     "data": {
      "text/plain": [
       "'/home/shwetachopra/code/wwbp_sc_code/gender_pronoun_swap'"
      ]
     },
     "execution_count": 4,
     "metadata": {},
     "output_type": "execute_result"
    }
   ],
   "source": [
    "os.getcwd()"
   ]
  },
  {
   "cell_type": "code",
   "execution_count": 11,
   "metadata": {
    "collapsed": false
   },
   "outputs": [],
   "source": [
    "df = pd.read_csv(\"../../../../../sandata/shwetachopra/twitter_politeness_PRONOUN_scores_original.csv\")"
   ]
  },
  {
   "cell_type": "code",
   "execution_count": 13,
   "metadata": {
    "collapsed": false
   },
   "outputs": [
    {
     "data": {
      "text/plain": [
       "message_id           int64\n",
       "sid                  int64\n",
       "message             object\n",
       "annotated_score    float64\n",
       "lexicon_score      float64\n",
       "liwc_tag            object\n",
       "dtype: object"
      ]
     },
     "execution_count": 13,
     "metadata": {},
     "output_type": "execute_result"
    }
   ],
   "source": [
    "df.dtypes"
   ]
  },
  {
   "cell_type": "code",
   "execution_count": 17,
   "metadata": {
    "collapsed": false
   },
   "outputs": [
    {
     "data": {
      "text/plain": [
       "(3786, 6)"
      ]
     },
     "execution_count": 17,
     "metadata": {},
     "output_type": "execute_result"
    }
   ],
   "source": [
    "df.shape"
   ]
  },
  {
   "cell_type": "code",
   "execution_count": 14,
   "metadata": {
    "collapsed": false
   },
   "outputs": [
    {
     "data": {
      "text/html": [
       "<div>\n",
       "<style>\n",
       "    .dataframe thead tr:only-child th {\n",
       "        text-align: right;\n",
       "    }\n",
       "\n",
       "    .dataframe thead th {\n",
       "        text-align: left;\n",
       "    }\n",
       "\n",
       "    .dataframe tbody tr th {\n",
       "        vertical-align: top;\n",
       "    }\n",
       "</style>\n",
       "<table border=\"1\" class=\"dataframe\">\n",
       "  <thead>\n",
       "    <tr style=\"text-align: right;\">\n",
       "      <th></th>\n",
       "      <th>message_id</th>\n",
       "      <th>sid</th>\n",
       "      <th>message</th>\n",
       "      <th>annotated_score</th>\n",
       "      <th>lexicon_score</th>\n",
       "      <th>liwc_tag</th>\n",
       "    </tr>\n",
       "  </thead>\n",
       "  <tbody>\n",
       "    <tr>\n",
       "      <th>0</th>\n",
       "      <td>4442</td>\n",
       "      <td>418177112609013760</td>\n",
       "      <td>too funny that I'm at B's with her little brot...</td>\n",
       "      <td>0.019274</td>\n",
       "      <td>0.418044</td>\n",
       "      <td>PRONOUN</td>\n",
       "    </tr>\n",
       "    <tr>\n",
       "      <th>1</th>\n",
       "      <td>5948</td>\n",
       "      <td>418178156994904064</td>\n",
       "      <td>NYE with the crew &amp; our babies ☺️ gonna be a g...</td>\n",
       "      <td>1.994996</td>\n",
       "      <td>0.644914</td>\n",
       "      <td>PRONOUN</td>\n",
       "    </tr>\n",
       "    <tr>\n",
       "      <th>2</th>\n",
       "      <td>5950</td>\n",
       "      <td>418183412458225664</td>\n",
       "      <td>RT @K_Star_25: @Hails_73 I love you (: happy n...</td>\n",
       "      <td>1.994996</td>\n",
       "      <td>0.972153</td>\n",
       "      <td>PRONOUN</td>\n",
       "    </tr>\n",
       "    <tr>\n",
       "      <th>3</th>\n",
       "      <td>2638</td>\n",
       "      <td>418184079356739585</td>\n",
       "      <td>RT @thatkidDariel_: Ha I have no idea how that...</td>\n",
       "      <td>-0.801799</td>\n",
       "      <td>0.264936</td>\n",
       "      <td>PRONOUN</td>\n",
       "    </tr>\n",
       "    <tr>\n",
       "      <th>4</th>\n",
       "      <td>2583</td>\n",
       "      <td>418184570102906881</td>\n",
       "      <td>I'm totally in the mood for Dino's right now a...</td>\n",
       "      <td>0.168517</td>\n",
       "      <td>0.290918</td>\n",
       "      <td>PRONOUN</td>\n",
       "    </tr>\n",
       "  </tbody>\n",
       "</table>\n",
       "</div>"
      ],
      "text/plain": [
       "   message_id                 sid  \\\n",
       "0        4442  418177112609013760   \n",
       "1        5948  418178156994904064   \n",
       "2        5950  418183412458225664   \n",
       "3        2638  418184079356739585   \n",
       "4        2583  418184570102906881   \n",
       "\n",
       "                                             message  annotated_score  \\\n",
       "0  too funny that I'm at B's with her little brot...         0.019274   \n",
       "1  NYE with the crew & our babies ☺️ gonna be a g...         1.994996   \n",
       "2  RT @K_Star_25: @Hails_73 I love you (: happy n...         1.994996   \n",
       "3  RT @thatkidDariel_: Ha I have no idea how that...        -0.801799   \n",
       "4  I'm totally in the mood for Dino's right now a...         0.168517   \n",
       "\n",
       "   lexicon_score liwc_tag  \n",
       "0       0.418044  PRONOUN  \n",
       "1       0.644914  PRONOUN  \n",
       "2       0.972153  PRONOUN  \n",
       "3       0.264936  PRONOUN  \n",
       "4       0.290918  PRONOUN  "
      ]
     },
     "execution_count": 14,
     "metadata": {},
     "output_type": "execute_result"
    }
   ],
   "source": [
    "df.head()"
   ]
  },
  {
   "cell_type": "code",
   "execution_count": 16,
   "metadata": {
    "collapsed": false
   },
   "outputs": [
    {
     "data": {
      "text/plain": [
       "<matplotlib.axes._subplots.AxesSubplot at 0x7f9a60550320>"
      ]
     },
     "execution_count": 16,
     "metadata": {},
     "output_type": "execute_result"
    },
    {
     "data": {
      "image/png": "[encoded data removed]",
      "text/plain": [
       "<matplotlib.figure.Figure at 0x7f9a6024aba8>"
      ]
     },
     "metadata": {},
     "output_type": "display_data"
    }
   ],
   "source": [
    "sns.regplot(df.annotated_score, df.lexicon_score)"
   ]
  },
  {
   "cell_type": "code",
   "execution_count": 19,
   "metadata": {
    "collapsed": false
   },
   "outputs": [
    {
     "data": {
      "text/plain": [
       "(0.53261028020567347, 1.8031894083909508e-276)"
      ]
     },
     "execution_count": 19,
     "metadata": {},
     "output_type": "execute_result"
    }
   ],
   "source": [
    "scipy.stats.pearsonr(df.annotated_score, df.lexicon_score)"
   ]
  },
  {
   "cell_type": "code",
   "execution_count": null,
   "metadata": {
    "collapsed": true
   },
   "outputs": [],
   "source": []
  }
 ],
 "metadata": {
  "anaconda-cloud": {},
  "kernelspec": {
   "display_name": "Python [conda env:dlatk]",
   "language": "python",
   "name": "conda-env-dlatk-py"
  },
  "language_info": {
   "codemirror_mode": {
    "name": "ipython",
    "version": 3
   },
   "file_extension": ".py",
   "mimetype": "text/x-python",
   "name": "python",
   "nbconvert_exporter": "python",
   "pygments_lexer": "ipython3",
   "version": "3.5.4"
  }
 },
 "nbformat": 4,
 "nbformat_minor": 2
}
